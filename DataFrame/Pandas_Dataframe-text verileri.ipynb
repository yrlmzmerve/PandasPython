{
 "cells": [
  {
   "cell_type": "code",
   "execution_count": 2,
   "metadata": {},
   "outputs": [],
   "source": [
    "import pandas as pd"
   ]
  },
  {
   "cell_type": "code",
   "execution_count": 3,
   "metadata": {
    "scrolled": true
   },
   "outputs": [
    {
     "data": {
      "text/html": [
       "<div>\n",
       "<style scoped>\n",
       "    .dataframe tbody tr th:only-of-type {\n",
       "        vertical-align: middle;\n",
       "    }\n",
       "\n",
       "    .dataframe tbody tr th {\n",
       "        vertical-align: top;\n",
       "    }\n",
       "\n",
       "    .dataframe thead th {\n",
       "        text-align: right;\n",
       "    }\n",
       "</style>\n",
       "<table border=\"1\" class=\"dataframe\">\n",
       "  <thead>\n",
       "    <tr style=\"text-align: right;\">\n",
       "      <th></th>\n",
       "      <th>Team</th>\n",
       "      <th>#</th>\n",
       "      <th>Pos.</th>\n",
       "      <th>FIFA Popular Name</th>\n",
       "      <th>Birth Date</th>\n",
       "      <th>Shirt Name</th>\n",
       "      <th>Club</th>\n",
       "      <th>Height</th>\n",
       "      <th>Weight</th>\n",
       "    </tr>\n",
       "  </thead>\n",
       "  <tbody>\n",
       "    <tr>\n",
       "      <th>0</th>\n",
       "      <td>Argentina</td>\n",
       "      <td>3</td>\n",
       "      <td>DF</td>\n",
       "      <td>TAGLIAFICO Nicolas</td>\n",
       "      <td>31.08.1992</td>\n",
       "      <td>TAGLIAFICO</td>\n",
       "      <td>AFC Ajax (NED)</td>\n",
       "      <td>169</td>\n",
       "      <td>65</td>\n",
       "    </tr>\n",
       "    <tr>\n",
       "      <th>1</th>\n",
       "      <td>Argentina</td>\n",
       "      <td>22</td>\n",
       "      <td>MF</td>\n",
       "      <td>PAVON Cristian</td>\n",
       "      <td>21.01.1996</td>\n",
       "      <td>PAVÓN</td>\n",
       "      <td>CA Boca Juniors (ARG)</td>\n",
       "      <td>169</td>\n",
       "      <td>65</td>\n",
       "    </tr>\n",
       "    <tr>\n",
       "      <th>2</th>\n",
       "      <td>Argentina</td>\n",
       "      <td>15</td>\n",
       "      <td>MF</td>\n",
       "      <td>LANZINI Manuel</td>\n",
       "      <td>15.02.1993</td>\n",
       "      <td>LANZINI</td>\n",
       "      <td>West Ham United FC (ENG)</td>\n",
       "      <td>167</td>\n",
       "      <td>66</td>\n",
       "    </tr>\n",
       "  </tbody>\n",
       "</table>\n",
       "</div>"
      ],
      "text/plain": [
       "        Team   # Pos.   FIFA Popular Name  Birth Date  Shirt Name  \\\n",
       "0  Argentina   3   DF  TAGLIAFICO Nicolas  31.08.1992  TAGLIAFICO   \n",
       "1  Argentina  22   MF      PAVON Cristian  21.01.1996       PAVÓN   \n",
       "2  Argentina  15   MF      LANZINI Manuel  15.02.1993     LANZINI   \n",
       "\n",
       "                       Club  Height  Weight  \n",
       "0            AFC Ajax (NED)     169      65  \n",
       "1     CA Boca Juniors (ARG)     169      65  \n",
       "2  West Ham United FC (ENG)     167      66  "
      ]
     },
     "execution_count": 3,
     "metadata": {},
     "output_type": "execute_result"
    }
   ],
   "source": [
    "kupa=pd.read_csv(\"wcplayers.csv\")\n",
    "kupa[\"Team\"]=kupa[\"Team\"].astype(\"category\")\n",
    "kupa.head(3)"
   ]
  },
  {
   "cell_type": "code",
   "execution_count": 6,
   "metadata": {},
   "outputs": [
    {
     "name": "stdout",
     "output_type": "stream",
     "text": [
      "<class 'pandas.core.frame.DataFrame'>\n",
      "RangeIndex: 736 entries, 0 to 735\n",
      "Data columns (total 9 columns):\n",
      "Team                 736 non-null category\n",
      "#                    736 non-null int64\n",
      "Pos.                 736 non-null object\n",
      "FIFA Popular Name    736 non-null object\n",
      "Birth Date           736 non-null object\n",
      "Shirt Name           736 non-null object\n",
      "Club                 736 non-null object\n",
      "Height               736 non-null int64\n",
      "Weight               736 non-null int64\n",
      "dtypes: category(1), int64(3), object(5)\n",
      "memory usage: 48.3+ KB\n"
     ]
    }
   ],
   "source": [
    "kupa.info()"
   ]
  },
  {
   "cell_type": "code",
   "execution_count": 5,
   "metadata": {},
   "outputs": [],
   "source": [
    "kupa[\"Team\"]=kupa[\"Team\"].astype(\"category\")"
   ]
  },
  {
   "cell_type": "code",
   "execution_count": 7,
   "metadata": {},
   "outputs": [
    {
     "data": {
      "text/plain": [
       "32"
      ]
     },
     "execution_count": 7,
     "metadata": {},
     "output_type": "execute_result"
    }
   ],
   "source": [
    "#farklı eleman sayısı\n",
    "kupa[\"Team\"].nunique()"
   ]
  },
  {
   "cell_type": "code",
   "execution_count": 10,
   "metadata": {
    "scrolled": true
   },
   "outputs": [
    {
     "data": {
      "text/plain": [
       "0    Tagliafico Nicolas\n",
       "1        Pavon Cristian\n",
       "2        Lanzini Manuel\n",
       "3        Salvio Eduardo\n",
       "4          Messi Lionel\n",
       "Name: FIFA Popular Name, dtype: object"
      ]
     },
     "execution_count": 10,
     "metadata": {},
     "output_type": "execute_result"
    }
   ],
   "source": [
    "#tüm harfleri küçültme :lower\n",
    "#tüm harfleri büyütme : upper\n",
    "#Baş harfini büyütme : title\n",
    "#Tüm strginle yapıln işlemlerin basına 'str' konulur\n",
    "\n",
    "kupa[\"FIFA Popular Name\"].str.lower().str.upper().str.title().head()"
   ]
  },
  {
   "cell_type": "code",
   "execution_count": 12,
   "metadata": {
    "scrolled": true
   },
   "outputs": [
    {
     "data": {
      "text/plain": [
       "0    18\n",
       "1    14\n",
       "2    14\n",
       "3    14\n",
       "4    12\n",
       "Name: FIFA Popular Name, dtype: int64"
      ]
     },
     "execution_count": 12,
     "metadata": {},
     "output_type": "execute_result"
    }
   ],
   "source": [
    "kupa[\"FIFA Popular Name\"].str.len().head()"
   ]
  },
  {
   "cell_type": "markdown",
   "metadata": {},
   "source": [
    "#### İçindeki veriyi değiştirmek içi replace methodu\n"
   ]
  },
  {
   "cell_type": "code",
   "execution_count": 15,
   "metadata": {},
   "outputs": [],
   "source": [
    "kupa[\"Team\"].str.replace(\"Argentina\",\"ARGENTİNA\")\n",
    "kupa[\"Birth Date\"]=kupa[\"Birth Date\"].str.replace(\".\",\"/\")"
   ]
  },
  {
   "cell_type": "code",
   "execution_count": 17,
   "metadata": {},
   "outputs": [
    {
     "data": {
      "text/html": [
       "<div>\n",
       "<style scoped>\n",
       "    .dataframe tbody tr th:only-of-type {\n",
       "        vertical-align: middle;\n",
       "    }\n",
       "\n",
       "    .dataframe tbody tr th {\n",
       "        vertical-align: top;\n",
       "    }\n",
       "\n",
       "    .dataframe thead th {\n",
       "        text-align: right;\n",
       "    }\n",
       "</style>\n",
       "<table border=\"1\" class=\"dataframe\">\n",
       "  <thead>\n",
       "    <tr style=\"text-align: right;\">\n",
       "      <th></th>\n",
       "      <th>Team</th>\n",
       "      <th>#</th>\n",
       "      <th>Pos.</th>\n",
       "      <th>FIFA Popular Name</th>\n",
       "      <th>Birth Date</th>\n",
       "      <th>Shirt Name</th>\n",
       "      <th>Club</th>\n",
       "      <th>Height</th>\n",
       "      <th>Weight</th>\n",
       "    </tr>\n",
       "  </thead>\n",
       "  <tbody>\n",
       "    <tr>\n",
       "      <th>0</th>\n",
       "      <td>Argentina</td>\n",
       "      <td>3</td>\n",
       "      <td>DF</td>\n",
       "      <td>TAGLIAFICO Nicolas</td>\n",
       "      <td>31/08/1992</td>\n",
       "      <td>TAGLIAFICO</td>\n",
       "      <td>AFC Ajax (NED)</td>\n",
       "      <td>169</td>\n",
       "      <td>65</td>\n",
       "    </tr>\n",
       "    <tr>\n",
       "      <th>1</th>\n",
       "      <td>Argentina</td>\n",
       "      <td>22</td>\n",
       "      <td>MF</td>\n",
       "      <td>PAVON Cristian</td>\n",
       "      <td>21/01/1996</td>\n",
       "      <td>PAVÓN</td>\n",
       "      <td>CA Boca Juniors (ARG)</td>\n",
       "      <td>169</td>\n",
       "      <td>65</td>\n",
       "    </tr>\n",
       "    <tr>\n",
       "      <th>2</th>\n",
       "      <td>Argentina</td>\n",
       "      <td>15</td>\n",
       "      <td>MF</td>\n",
       "      <td>LANZINI Manuel</td>\n",
       "      <td>15/02/1993</td>\n",
       "      <td>LANZINI</td>\n",
       "      <td>West Ham United FC (ENG)</td>\n",
       "      <td>167</td>\n",
       "      <td>66</td>\n",
       "    </tr>\n",
       "    <tr>\n",
       "      <th>3</th>\n",
       "      <td>Argentina</td>\n",
       "      <td>18</td>\n",
       "      <td>DF</td>\n",
       "      <td>SALVIO Eduardo</td>\n",
       "      <td>13/07/1990</td>\n",
       "      <td>SALVIO</td>\n",
       "      <td>SL Benfica (POR)</td>\n",
       "      <td>167</td>\n",
       "      <td>69</td>\n",
       "    </tr>\n",
       "    <tr>\n",
       "      <th>4</th>\n",
       "      <td>Argentina</td>\n",
       "      <td>10</td>\n",
       "      <td>FW</td>\n",
       "      <td>MESSI Lionel</td>\n",
       "      <td>24/06/1987</td>\n",
       "      <td>MESSI</td>\n",
       "      <td>FC Barcelona (ESP)</td>\n",
       "      <td>170</td>\n",
       "      <td>72</td>\n",
       "    </tr>\n",
       "  </tbody>\n",
       "</table>\n",
       "</div>"
      ],
      "text/plain": [
       "        Team   # Pos.   FIFA Popular Name  Birth Date  Shirt Name  \\\n",
       "0  Argentina   3   DF  TAGLIAFICO Nicolas  31/08/1992  TAGLIAFICO   \n",
       "1  Argentina  22   MF      PAVON Cristian  21/01/1996       PAVÓN   \n",
       "2  Argentina  15   MF      LANZINI Manuel  15/02/1993     LANZINI   \n",
       "3  Argentina  18   DF      SALVIO Eduardo  13/07/1990      SALVIO   \n",
       "4  Argentina  10   FW        MESSI Lionel  24/06/1987       MESSI   \n",
       "\n",
       "                       Club  Height  Weight  \n",
       "0            AFC Ajax (NED)     169      65  \n",
       "1     CA Boca Juniors (ARG)     169      65  \n",
       "2  West Ham United FC (ENG)     167      66  \n",
       "3          SL Benfica (POR)     167      69  \n",
       "4        FC Barcelona (ESP)     170      72  "
      ]
     },
     "execution_count": 17,
     "metadata": {},
     "output_type": "execute_result"
    }
   ],
   "source": [
    "kupa.head()"
   ]
  },
  {
   "cell_type": "code",
   "execution_count": 20,
   "metadata": {},
   "outputs": [],
   "source": [
    "# birşeyin içide olup olmamasına bakma : contains metodu\n",
    "manuel=kupa[\"FIFA Popular Name\"].str.lower().str.contains(\"manuel\")"
   ]
  },
  {
   "cell_type": "code",
   "execution_count": 21,
   "metadata": {},
   "outputs": [
    {
     "data": {
      "text/html": [
       "<div>\n",
       "<style scoped>\n",
       "    .dataframe tbody tr th:only-of-type {\n",
       "        vertical-align: middle;\n",
       "    }\n",
       "\n",
       "    .dataframe tbody tr th {\n",
       "        vertical-align: top;\n",
       "    }\n",
       "\n",
       "    .dataframe thead th {\n",
       "        text-align: right;\n",
       "    }\n",
       "</style>\n",
       "<table border=\"1\" class=\"dataframe\">\n",
       "  <thead>\n",
       "    <tr style=\"text-align: right;\">\n",
       "      <th></th>\n",
       "      <th>Team</th>\n",
       "      <th>#</th>\n",
       "      <th>Pos.</th>\n",
       "      <th>FIFA Popular Name</th>\n",
       "      <th>Birth Date</th>\n",
       "      <th>Shirt Name</th>\n",
       "      <th>Club</th>\n",
       "      <th>Height</th>\n",
       "      <th>Weight</th>\n",
       "    </tr>\n",
       "  </thead>\n",
       "  <tbody>\n",
       "    <tr>\n",
       "      <th>2</th>\n",
       "      <td>Argentina</td>\n",
       "      <td>15</td>\n",
       "      <td>MF</td>\n",
       "      <td>LANZINI Manuel</td>\n",
       "      <td>15/02/1993</td>\n",
       "      <td>LANZINI</td>\n",
       "      <td>West Ham United FC (ENG)</td>\n",
       "      <td>167</td>\n",
       "      <td>66</td>\n",
       "    </tr>\n",
       "    <tr>\n",
       "      <th>275</th>\n",
       "      <td>Germany</td>\n",
       "      <td>1</td>\n",
       "      <td>GK</td>\n",
       "      <td>NEUER Manuel</td>\n",
       "      <td>27/03/1986</td>\n",
       "      <td>NEUER</td>\n",
       "      <td>FC Bayern München (GER)</td>\n",
       "      <td>193</td>\n",
       "      <td>93</td>\n",
       "    </tr>\n",
       "    <tr>\n",
       "      <th>407</th>\n",
       "      <td>Morocco</td>\n",
       "      <td>4</td>\n",
       "      <td>DF</td>\n",
       "      <td>DA COSTA Manuel</td>\n",
       "      <td>06/05/1986</td>\n",
       "      <td>DA COSTA</td>\n",
       "      <td>Istanbul Başakşehir FK (TUR)</td>\n",
       "      <td>187</td>\n",
       "      <td>78</td>\n",
       "    </tr>\n",
       "    <tr>\n",
       "      <th>513</th>\n",
       "      <td>Portugal</td>\n",
       "      <td>4</td>\n",
       "      <td>MF</td>\n",
       "      <td>MANUEL FERNANDES</td>\n",
       "      <td>05/02/1986</td>\n",
       "      <td>M. FERNANDES</td>\n",
       "      <td>FC Lokomotiv Moscow (RUS)</td>\n",
       "      <td>174</td>\n",
       "      <td>69</td>\n",
       "    </tr>\n",
       "    <tr>\n",
       "      <th>686</th>\n",
       "      <td>Switzerland</td>\n",
       "      <td>5</td>\n",
       "      <td>DF</td>\n",
       "      <td>AKANJI Manuel</td>\n",
       "      <td>19/07/1995</td>\n",
       "      <td>AKANJI</td>\n",
       "      <td>Borussia Dortmund (GER)</td>\n",
       "      <td>186</td>\n",
       "      <td>85</td>\n",
       "    </tr>\n",
       "  </tbody>\n",
       "</table>\n",
       "</div>"
      ],
      "text/plain": [
       "            Team   # Pos. FIFA Popular Name  Birth Date    Shirt Name  \\\n",
       "2      Argentina  15   MF    LANZINI Manuel  15/02/1993       LANZINI   \n",
       "275      Germany   1   GK      NEUER Manuel  27/03/1986         NEUER   \n",
       "407      Morocco   4   DF   DA COSTA Manuel  06/05/1986      DA COSTA   \n",
       "513     Portugal   4   MF  MANUEL FERNANDES  05/02/1986  M. FERNANDES   \n",
       "686  Switzerland   5   DF     AKANJI Manuel  19/07/1995        AKANJI   \n",
       "\n",
       "                             Club  Height  Weight  \n",
       "2        West Ham United FC (ENG)     167      66  \n",
       "275       FC Bayern München (GER)     193      93  \n",
       "407  Istanbul Başakşehir FK (TUR)     187      78  \n",
       "513     FC Lokomotiv Moscow (RUS)     174      69  \n",
       "686       Borussia Dortmund (GER)     186      85  "
      ]
     },
     "execution_count": 21,
     "metadata": {},
     "output_type": "execute_result"
    }
   ],
   "source": [
    "kupa[manuel].head()"
   ]
  },
  {
   "cell_type": "code",
   "execution_count": 22,
   "metadata": {},
   "outputs": [],
   "source": [
    "# şununla başlayanları getir demek için : starswith metodu\n",
    "man=kupa[\"FIFA Popular Name\"].str.lower().str.startswith(\"man\")"
   ]
  },
  {
   "cell_type": "code",
   "execution_count": 23,
   "metadata": {},
   "outputs": [
    {
     "data": {
      "text/html": [
       "<div>\n",
       "<style scoped>\n",
       "    .dataframe tbody tr th:only-of-type {\n",
       "        vertical-align: middle;\n",
       "    }\n",
       "\n",
       "    .dataframe tbody tr th {\n",
       "        vertical-align: top;\n",
       "    }\n",
       "\n",
       "    .dataframe thead th {\n",
       "        text-align: right;\n",
       "    }\n",
       "</style>\n",
       "<table border=\"1\" class=\"dataframe\">\n",
       "  <thead>\n",
       "    <tr style=\"text-align: right;\">\n",
       "      <th></th>\n",
       "      <th>Team</th>\n",
       "      <th>#</th>\n",
       "      <th>Pos.</th>\n",
       "      <th>FIFA Popular Name</th>\n",
       "      <th>Birth Date</th>\n",
       "      <th>Shirt Name</th>\n",
       "      <th>Club</th>\n",
       "      <th>Height</th>\n",
       "      <th>Weight</th>\n",
       "    </tr>\n",
       "  </thead>\n",
       "  <tbody>\n",
       "    <tr>\n",
       "      <th>158</th>\n",
       "      <td>Croatia</td>\n",
       "      <td>17</td>\n",
       "      <td>FW</td>\n",
       "      <td>MANDZUKIC Mario</td>\n",
       "      <td>21/05/1986</td>\n",
       "      <td>MANDŽUKIĆ</td>\n",
       "      <td>Juventus FC (ITA)</td>\n",
       "      <td>190</td>\n",
       "      <td>85</td>\n",
       "    </tr>\n",
       "    <tr>\n",
       "      <th>249</th>\n",
       "      <td>France</td>\n",
       "      <td>16</td>\n",
       "      <td>GK</td>\n",
       "      <td>MANDANDA Steve</td>\n",
       "      <td>28/03/1985</td>\n",
       "      <td>MANDANDA</td>\n",
       "      <td>Olympique Marseille (FRA)</td>\n",
       "      <td>187</td>\n",
       "      <td>88</td>\n",
       "    </tr>\n",
       "    <tr>\n",
       "      <th>513</th>\n",
       "      <td>Portugal</td>\n",
       "      <td>4</td>\n",
       "      <td>MF</td>\n",
       "      <td>MANUEL FERNANDES</td>\n",
       "      <td>05/02/1986</td>\n",
       "      <td>M. FERNANDES</td>\n",
       "      <td>FC Lokomotiv Moscow (RUS)</td>\n",
       "      <td>174</td>\n",
       "      <td>69</td>\n",
       "    </tr>\n",
       "    <tr>\n",
       "      <th>560</th>\n",
       "      <td>Saudi Arabia</td>\n",
       "      <td>2</td>\n",
       "      <td>DF</td>\n",
       "      <td>MANSOUR ALHARBI</td>\n",
       "      <td>19/10/1987</td>\n",
       "      <td>MANSOUR</td>\n",
       "      <td>Al Ahli SC (KSA)</td>\n",
       "      <td>173</td>\n",
       "      <td>68</td>\n",
       "    </tr>\n",
       "    <tr>\n",
       "      <th>577</th>\n",
       "      <td>Senegal</td>\n",
       "      <td>10</td>\n",
       "      <td>FW</td>\n",
       "      <td>MANE Sadio</td>\n",
       "      <td>10/04/1992</td>\n",
       "      <td>MANE</td>\n",
       "      <td>Liverpool FC (ENG)</td>\n",
       "      <td>175</td>\n",
       "      <td>69</td>\n",
       "    </tr>\n",
       "  </tbody>\n",
       "</table>\n",
       "</div>"
      ],
      "text/plain": [
       "             Team   # Pos. FIFA Popular Name  Birth Date    Shirt Name  \\\n",
       "158       Croatia  17   FW   MANDZUKIC Mario  21/05/1986     MANDŽUKIĆ   \n",
       "249        France  16   GK    MANDANDA Steve  28/03/1985      MANDANDA   \n",
       "513      Portugal   4   MF  MANUEL FERNANDES  05/02/1986  M. FERNANDES   \n",
       "560  Saudi Arabia   2   DF   MANSOUR ALHARBI  19/10/1987       MANSOUR   \n",
       "577       Senegal  10   FW        MANE Sadio  10/04/1992          MANE   \n",
       "\n",
       "                          Club  Height  Weight  \n",
       "158          Juventus FC (ITA)     190      85  \n",
       "249  Olympique Marseille (FRA)     187      88  \n",
       "513  FC Lokomotiv Moscow (RUS)     174      69  \n",
       "560           Al Ahli SC (KSA)     173      68  \n",
       "577         Liverpool FC (ENG)     175      69  "
      ]
     },
     "execution_count": 23,
     "metadata": {},
     "output_type": "execute_result"
    }
   ],
   "source": [
    "kupa[man].head()"
   ]
  },
  {
   "cell_type": "code",
   "execution_count": 26,
   "metadata": {},
   "outputs": [],
   "source": [
    "# sonu şununla bitenleri getir demek için : endswith metodu\n",
    "uel=kupa[\"FIFA Popular Name\"].str.lower().str.endswith(\"uel\")"
   ]
  },
  {
   "cell_type": "code",
   "execution_count": 27,
   "metadata": {},
   "outputs": [
    {
     "data": {
      "text/html": [
       "<div>\n",
       "<style scoped>\n",
       "    .dataframe tbody tr th:only-of-type {\n",
       "        vertical-align: middle;\n",
       "    }\n",
       "\n",
       "    .dataframe tbody tr th {\n",
       "        vertical-align: top;\n",
       "    }\n",
       "\n",
       "    .dataframe thead th {\n",
       "        text-align: right;\n",
       "    }\n",
       "</style>\n",
       "<table border=\"1\" class=\"dataframe\">\n",
       "  <thead>\n",
       "    <tr style=\"text-align: right;\">\n",
       "      <th></th>\n",
       "      <th>Team</th>\n",
       "      <th>#</th>\n",
       "      <th>Pos.</th>\n",
       "      <th>FIFA Popular Name</th>\n",
       "      <th>Birth Date</th>\n",
       "      <th>Shirt Name</th>\n",
       "      <th>Club</th>\n",
       "      <th>Height</th>\n",
       "      <th>Weight</th>\n",
       "    </tr>\n",
       "  </thead>\n",
       "  <tbody>\n",
       "    <tr>\n",
       "      <th>2</th>\n",
       "      <td>Argentina</td>\n",
       "      <td>15</td>\n",
       "      <td>MF</td>\n",
       "      <td>LANZINI Manuel</td>\n",
       "      <td>15/02/1993</td>\n",
       "      <td>LANZINI</td>\n",
       "      <td>West Ham United FC (ENG)</td>\n",
       "      <td>167</td>\n",
       "      <td>66</td>\n",
       "    </tr>\n",
       "    <tr>\n",
       "      <th>22</th>\n",
       "      <td>Argentina</td>\n",
       "      <td>1</td>\n",
       "      <td>GK</td>\n",
       "      <td>GUZMAN Nahuel</td>\n",
       "      <td>10/02/1986</td>\n",
       "      <td>GUZMÁN</td>\n",
       "      <td>Tigres UANL (MEX)</td>\n",
       "      <td>192</td>\n",
       "      <td>90</td>\n",
       "    </tr>\n",
       "    <tr>\n",
       "      <th>102</th>\n",
       "      <td>Colombia</td>\n",
       "      <td>19</td>\n",
       "      <td>FW</td>\n",
       "      <td>BORJA Miguel</td>\n",
       "      <td>26/01/1993</td>\n",
       "      <td>M. BORJA</td>\n",
       "      <td>SE Palmeiras (BRA)</td>\n",
       "      <td>183</td>\n",
       "      <td>74</td>\n",
       "    </tr>\n",
       "    <tr>\n",
       "      <th>245</th>\n",
       "      <td>France</td>\n",
       "      <td>5</td>\n",
       "      <td>DF</td>\n",
       "      <td>UMTITI Samuel</td>\n",
       "      <td>14/11/1993</td>\n",
       "      <td>UMTITI</td>\n",
       "      <td>FC Barcelona (ESP)</td>\n",
       "      <td>183</td>\n",
       "      <td>84</td>\n",
       "    </tr>\n",
       "    <tr>\n",
       "      <th>275</th>\n",
       "      <td>Germany</td>\n",
       "      <td>1</td>\n",
       "      <td>GK</td>\n",
       "      <td>NEUER Manuel</td>\n",
       "      <td>27/03/1986</td>\n",
       "      <td>NEUER</td>\n",
       "      <td>FC Bayern München (GER)</td>\n",
       "      <td>193</td>\n",
       "      <td>93</td>\n",
       "    </tr>\n",
       "  </tbody>\n",
       "</table>\n",
       "</div>"
      ],
      "text/plain": [
       "          Team   # Pos. FIFA Popular Name  Birth Date Shirt Name  \\\n",
       "2    Argentina  15   MF    LANZINI Manuel  15/02/1993    LANZINI   \n",
       "22   Argentina   1   GK     GUZMAN Nahuel  10/02/1986     GUZMÁN   \n",
       "102   Colombia  19   FW      BORJA Miguel  26/01/1993   M. BORJA   \n",
       "245     France   5   DF     UMTITI Samuel  14/11/1993     UMTITI   \n",
       "275    Germany   1   GK      NEUER Manuel  27/03/1986      NEUER   \n",
       "\n",
       "                         Club  Height  Weight  \n",
       "2    West Ham United FC (ENG)     167      66  \n",
       "22          Tigres UANL (MEX)     192      90  \n",
       "102        SE Palmeiras (BRA)     183      74  \n",
       "245        FC Barcelona (ESP)     183      84  \n",
       "275   FC Bayern München (GER)     193      93  "
      ]
     },
     "execution_count": 27,
     "metadata": {},
     "output_type": "execute_result"
    }
   ],
   "source": [
    "kupa[uel].head()"
   ]
  },
  {
   "cell_type": "markdown",
   "metadata": {},
   "source": [
    "### lstrip methodu : solundaki boşlukları silmek için\n",
    "### rstrip methodu : sağındaki boşlukları silmek için\n",
    "### strip methodu : sağ ve soldaki boşlukları silmek için "
   ]
  },
  {
   "cell_type": "code",
   "execution_count": 28,
   "metadata": {},
   "outputs": [
    {
     "data": {
      "text/plain": [
       "'merve y'"
      ]
     },
     "execution_count": 28,
     "metadata": {},
     "output_type": "execute_result"
    }
   ],
   "source": [
    "\"    merve y   \".lstrip().rstrip()"
   ]
  },
  {
   "cell_type": "code",
   "execution_count": 31,
   "metadata": {},
   "outputs": [
    {
     "data": {
      "text/plain": [
       "'merv y'"
      ]
     },
     "execution_count": 31,
     "metadata": {},
     "output_type": "execute_result"
    }
   ],
   "source": [
    "\"    merv y   \".strip()"
   ]
  },
  {
   "cell_type": "code",
   "execution_count": 32,
   "metadata": {},
   "outputs": [],
   "source": [
    "kupa[\"FIFA Popular Name\"]=kupa[\"FIFA Popular Name\"].str.strip()"
   ]
  },
  {
   "cell_type": "code",
   "execution_count": 33,
   "metadata": {},
   "outputs": [],
   "source": [
    "kupa[\"Club\"]=kupa[\"Club\"].str.strip()"
   ]
  },
  {
   "cell_type": "code",
   "execution_count": 34,
   "metadata": {},
   "outputs": [],
   "source": [
    "kupa=pd.read_csv(\"wcplayers.csv\",index_col=\"Team\")"
   ]
  },
  {
   "cell_type": "code",
   "execution_count": 35,
   "metadata": {},
   "outputs": [],
   "source": [
    "kupa.index=kupa.index.str.strip()"
   ]
  },
  {
   "cell_type": "code",
   "execution_count": 36,
   "metadata": {},
   "outputs": [],
   "source": [
    "kupa.columns=kupa.columns.str.upper().str.strip()"
   ]
  },
  {
   "cell_type": "markdown",
   "metadata": {},
   "source": [
    "#### Split metodu bölmek için \n",
    "#### Split(\" \") : boşluktan sonra böl demek "
   ]
  },
  {
   "cell_type": "code",
   "execution_count": 38,
   "metadata": {
    "scrolled": true
   },
   "outputs": [
    {
     "data": {
      "text/plain": [
       "Rodriguez    6\n",
       "Ben          5\n",
       "Kim          5\n",
       "Mohamed      5\n",
       "Ndiaye       3\n",
       "Name: FIFA POPULAR NAME, dtype: int64"
      ]
     },
     "execution_count": 38,
     "metadata": {},
     "output_type": "execute_result"
    }
   ],
   "source": [
    "kupa[\"FIFA POPULAR NAME\"].str.split(\" \").str.get(0).str.title().value_counts().head()"
   ]
  },
  {
   "cell_type": "code",
   "execution_count": 41,
   "metadata": {},
   "outputs": [],
   "source": [
    "# expand = True , sutunlara boluyor ve ilk isim soy isim bu bölünen sutunların adları oluyor\n",
    "kupa[[\"ilk isim\",\"soyisim\"]]=kupa[\"FIFA POPULAR NAME\"].str.split(\" \",expand=True,n=1)"
   ]
  },
  {
   "cell_type": "code",
   "execution_count": 40,
   "metadata": {},
   "outputs": [
    {
     "data": {
      "text/html": [
       "<div>\n",
       "<style scoped>\n",
       "    .dataframe tbody tr th:only-of-type {\n",
       "        vertical-align: middle;\n",
       "    }\n",
       "\n",
       "    .dataframe tbody tr th {\n",
       "        vertical-align: top;\n",
       "    }\n",
       "\n",
       "    .dataframe thead th {\n",
       "        text-align: right;\n",
       "    }\n",
       "</style>\n",
       "<table border=\"1\" class=\"dataframe\">\n",
       "  <thead>\n",
       "    <tr style=\"text-align: right;\">\n",
       "      <th></th>\n",
       "      <th>#</th>\n",
       "      <th>POS.</th>\n",
       "      <th>FIFA POPULAR NAME</th>\n",
       "      <th>BIRTH DATE</th>\n",
       "      <th>SHIRT NAME</th>\n",
       "      <th>CLUB</th>\n",
       "      <th>HEIGHT</th>\n",
       "      <th>WEIGHT</th>\n",
       "      <th>ilk isim</th>\n",
       "      <th>soyisim</th>\n",
       "    </tr>\n",
       "    <tr>\n",
       "      <th>Team</th>\n",
       "      <th></th>\n",
       "      <th></th>\n",
       "      <th></th>\n",
       "      <th></th>\n",
       "      <th></th>\n",
       "      <th></th>\n",
       "      <th></th>\n",
       "      <th></th>\n",
       "      <th></th>\n",
       "      <th></th>\n",
       "    </tr>\n",
       "  </thead>\n",
       "  <tbody>\n",
       "    <tr>\n",
       "      <th>Argentina</th>\n",
       "      <td>3</td>\n",
       "      <td>DF</td>\n",
       "      <td>TAGLIAFICO Nicolas</td>\n",
       "      <td>31.08.1992</td>\n",
       "      <td>TAGLIAFICO</td>\n",
       "      <td>AFC Ajax (NED)</td>\n",
       "      <td>169</td>\n",
       "      <td>65</td>\n",
       "      <td>TAGLIAFICO</td>\n",
       "      <td>Nicolas</td>\n",
       "    </tr>\n",
       "    <tr>\n",
       "      <th>Argentina</th>\n",
       "      <td>22</td>\n",
       "      <td>MF</td>\n",
       "      <td>PAVON Cristian</td>\n",
       "      <td>21.01.1996</td>\n",
       "      <td>PAVÓN</td>\n",
       "      <td>CA Boca Juniors (ARG)</td>\n",
       "      <td>169</td>\n",
       "      <td>65</td>\n",
       "      <td>PAVON</td>\n",
       "      <td>Cristian</td>\n",
       "    </tr>\n",
       "    <tr>\n",
       "      <th>Argentina</th>\n",
       "      <td>15</td>\n",
       "      <td>MF</td>\n",
       "      <td>LANZINI Manuel</td>\n",
       "      <td>15.02.1993</td>\n",
       "      <td>LANZINI</td>\n",
       "      <td>West Ham United FC (ENG)</td>\n",
       "      <td>167</td>\n",
       "      <td>66</td>\n",
       "      <td>LANZINI</td>\n",
       "      <td>Manuel</td>\n",
       "    </tr>\n",
       "    <tr>\n",
       "      <th>Argentina</th>\n",
       "      <td>18</td>\n",
       "      <td>DF</td>\n",
       "      <td>SALVIO Eduardo</td>\n",
       "      <td>13.07.1990</td>\n",
       "      <td>SALVIO</td>\n",
       "      <td>SL Benfica (POR)</td>\n",
       "      <td>167</td>\n",
       "      <td>69</td>\n",
       "      <td>SALVIO</td>\n",
       "      <td>Eduardo</td>\n",
       "    </tr>\n",
       "    <tr>\n",
       "      <th>Argentina</th>\n",
       "      <td>10</td>\n",
       "      <td>FW</td>\n",
       "      <td>MESSI Lionel</td>\n",
       "      <td>24.06.1987</td>\n",
       "      <td>MESSI</td>\n",
       "      <td>FC Barcelona (ESP)</td>\n",
       "      <td>170</td>\n",
       "      <td>72</td>\n",
       "      <td>MESSI</td>\n",
       "      <td>Lionel</td>\n",
       "    </tr>\n",
       "  </tbody>\n",
       "</table>\n",
       "</div>"
      ],
      "text/plain": [
       "            # POS.   FIFA POPULAR NAME  BIRTH DATE  SHIRT NAME  \\\n",
       "Team                                                             \n",
       "Argentina   3   DF  TAGLIAFICO Nicolas  31.08.1992  TAGLIAFICO   \n",
       "Argentina  22   MF      PAVON Cristian  21.01.1996       PAVÓN   \n",
       "Argentina  15   MF      LANZINI Manuel  15.02.1993     LANZINI   \n",
       "Argentina  18   DF      SALVIO Eduardo  13.07.1990      SALVIO   \n",
       "Argentina  10   FW        MESSI Lionel  24.06.1987       MESSI   \n",
       "\n",
       "                               CLUB  HEIGHT  WEIGHT    ilk isim   soyisim  \n",
       "Team                                                                       \n",
       "Argentina            AFC Ajax (NED)     169      65  TAGLIAFICO   Nicolas  \n",
       "Argentina     CA Boca Juniors (ARG)     169      65       PAVON  Cristian  \n",
       "Argentina  West Ham United FC (ENG)     167      66     LANZINI    Manuel  \n",
       "Argentina          SL Benfica (POR)     167      69      SALVIO   Eduardo  \n",
       "Argentina        FC Barcelona (ESP)     170      72       MESSI    Lionel  "
      ]
     },
     "execution_count": 40,
     "metadata": {},
     "output_type": "execute_result"
    }
   ],
   "source": [
    "kupa.head()"
   ]
  },
  {
   "cell_type": "code",
   "execution_count": null,
   "metadata": {},
   "outputs": [],
   "source": []
  }
 ],
 "metadata": {
  "kernelspec": {
   "display_name": "Python 3",
   "language": "python",
   "name": "python3"
  },
  "language_info": {
   "codemirror_mode": {
    "name": "ipython",
    "version": 3
   },
   "file_extension": ".py",
   "mimetype": "text/x-python",
   "name": "python",
   "nbconvert_exporter": "python",
   "pygments_lexer": "ipython3",
   "version": "3.7.3"
  }
 },
 "nbformat": 4,
 "nbformat_minor": 2
}
