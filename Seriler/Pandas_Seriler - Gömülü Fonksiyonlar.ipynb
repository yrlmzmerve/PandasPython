{
 "cells": [
  {
   "cell_type": "markdown",
   "metadata": {},
   "source": [
    "# Seriler Gömülü Fonksiyonla (built-in functions)"
   ]
  },
  {
   "cell_type": "code",
   "execution_count": 1,
   "metadata": {},
   "outputs": [],
   "source": [
    "import pandas as pd"
   ]
  },
  {
   "cell_type": "code",
   "execution_count": 11,
   "metadata": {},
   "outputs": [
    {
     "data": {
      "text/plain": [
       "0                 ABD\n",
       "1                 Çin\n",
       "2             Japonya\n",
       "3             Almanya\n",
       "4           İngiltere\n",
       "5              Fransa\n",
       "6           Hindistan\n",
       "7              İtalya\n",
       "8            Brezilya\n",
       "9              Kanada\n",
       "10              Rusya\n",
       "11         GÜney Kore\n",
       "12            İspanya\n",
       "13        Avusturalya\n",
       "14            Meksika\n",
       "15          Endonezya\n",
       "16           Hollanda\n",
       "17            Türkiye\n",
       "18    Suudi Arabistan\n",
       "19            İsviçre\n",
       "Name: Ülke, dtype: object"
      ]
     },
     "execution_count": 11,
     "metadata": {},
     "output_type": "execute_result"
    }
   ],
   "source": [
    "ulke = pd.read_csv('ulke.csv',squeeze=True)\n",
    "ulke"
   ]
  },
  {
   "cell_type": "code",
   "execution_count": 14,
   "metadata": {},
   "outputs": [
    {
     "data": {
      "text/plain": [
       "0     20410000\n",
       "1     14090000\n",
       "2      5170000\n",
       "3      4210000\n",
       "4      2940000\n",
       "5      2930000\n",
       "6      2850000\n",
       "7      2180000\n",
       "8      2140000\n",
       "9      1800000\n",
       "10     1720000\n",
       "11     1690000\n",
       "12     1510000\n",
       "13     1500000\n",
       "14     1210000\n",
       "15     1070000\n",
       "16      945000\n",
       "17      910000\n",
       "18      748000\n",
       "19      741000\n",
       "Name: Milli Gelir, dtype: int64"
      ]
     },
     "execution_count": 14,
     "metadata": {},
     "output_type": "execute_result"
    }
   ],
   "source": [
    "gelir = pd.read_csv('milligelir.csv',squeeze=True)\n",
    "gelir"
   ]
  },
  {
   "cell_type": "code",
   "execution_count": 15,
   "metadata": {},
   "outputs": [
    {
     "data": {
      "text/plain": [
       "20"
      ]
     },
     "execution_count": 15,
     "metadata": {},
     "output_type": "execute_result"
    }
   ],
   "source": [
    "# len() func uzunlugunu bulur\n",
    "len(ulke)"
   ]
  },
  {
   "cell_type": "code",
   "execution_count": 16,
   "metadata": {},
   "outputs": [
    {
     "data": {
      "text/plain": [
       "20"
      ]
     },
     "execution_count": 16,
     "metadata": {},
     "output_type": "execute_result"
    }
   ],
   "source": [
    "len(gelir)"
   ]
  },
  {
   "cell_type": "code",
   "execution_count": 17,
   "metadata": {},
   "outputs": [
    {
     "data": {
      "text/plain": [
       "pandas.core.series.Series"
      ]
     },
     "execution_count": 17,
     "metadata": {},
     "output_type": "execute_result"
    }
   ],
   "source": [
    "type(ulke)"
   ]
  },
  {
   "cell_type": "markdown",
   "metadata": {},
   "source": [
    "### Sorted funk. Alfabetik sıralamaya göre sıralar"
   ]
  },
  {
   "cell_type": "code",
   "execution_count": 18,
   "metadata": {},
   "outputs": [
    {
     "data": {
      "text/plain": [
       "['ABD',\n",
       " 'Almanya',\n",
       " 'Avusturalya',\n",
       " 'Brezilya',\n",
       " 'Endonezya',\n",
       " 'Fransa',\n",
       " 'GÜney Kore',\n",
       " 'Hindistan',\n",
       " 'Hollanda',\n",
       " 'Japonya',\n",
       " 'Kanada',\n",
       " 'Meksika',\n",
       " 'Rusya',\n",
       " 'Suudi Arabistan',\n",
       " 'Türkiye',\n",
       " 'Çin',\n",
       " 'İngiltere',\n",
       " 'İspanya',\n",
       " 'İsviçre',\n",
       " 'İtalya']"
      ]
     },
     "execution_count": 18,
     "metadata": {},
     "output_type": "execute_result"
    }
   ],
   "source": [
    "sorted(ulke)"
   ]
  },
  {
   "cell_type": "code",
   "execution_count": 19,
   "metadata": {},
   "outputs": [
    {
     "data": {
      "text/plain": [
       "[741000,\n",
       " 748000,\n",
       " 910000,\n",
       " 945000,\n",
       " 1070000,\n",
       " 1210000,\n",
       " 1500000,\n",
       " 1510000,\n",
       " 1690000,\n",
       " 1720000,\n",
       " 1800000,\n",
       " 2140000,\n",
       " 2180000,\n",
       " 2850000,\n",
       " 2930000,\n",
       " 2940000,\n",
       " 4210000,\n",
       " 5170000,\n",
       " 14090000,\n",
       " 20410000]"
      ]
     },
     "execution_count": 19,
     "metadata": {},
     "output_type": "execute_result"
    }
   ],
   "source": [
    "#küçükten büyüğe \n",
    "sorted(gelir)"
   ]
  },
  {
   "cell_type": "markdown",
   "metadata": {},
   "source": [
    "### Oluşturulan Serileri Liste Haline Getirme"
   ]
  },
  {
   "cell_type": "code",
   "execution_count": 21,
   "metadata": {},
   "outputs": [
    {
     "data": {
      "text/plain": [
       "['ABD',\n",
       " 'Çin',\n",
       " 'Japonya',\n",
       " 'Almanya',\n",
       " 'İngiltere',\n",
       " 'Fransa',\n",
       " 'Hindistan',\n",
       " 'İtalya',\n",
       " 'Brezilya',\n",
       " 'Kanada',\n",
       " 'Rusya',\n",
       " 'GÜney Kore',\n",
       " 'İspanya',\n",
       " 'Avusturalya',\n",
       " 'Meksika',\n",
       " 'Endonezya',\n",
       " 'Hollanda',\n",
       " 'Türkiye',\n",
       " 'Suudi Arabistan',\n",
       " 'İsviçre']"
      ]
     },
     "execution_count": 21,
     "metadata": {},
     "output_type": "execute_result"
    }
   ],
   "source": [
    "list(ulke)"
   ]
  },
  {
   "cell_type": "code",
   "execution_count": 22,
   "metadata": {},
   "outputs": [
    {
     "data": {
      "text/plain": [
       "[20410000,\n",
       " 14090000,\n",
       " 5170000,\n",
       " 4210000,\n",
       " 2940000,\n",
       " 2930000,\n",
       " 2850000,\n",
       " 2180000,\n",
       " 2140000,\n",
       " 1800000,\n",
       " 1720000,\n",
       " 1690000,\n",
       " 1510000,\n",
       " 1500000,\n",
       " 1210000,\n",
       " 1070000,\n",
       " 945000,\n",
       " 910000,\n",
       " 748000,\n",
       " 741000]"
      ]
     },
     "execution_count": 22,
     "metadata": {},
     "output_type": "execute_result"
    }
   ],
   "source": [
    "list(gelir)"
   ]
  },
  {
   "cell_type": "markdown",
   "metadata": {},
   "source": [
    "### Oluşturulan Serileri Dictionary Haline Getirme"
   ]
  },
  {
   "cell_type": "code",
   "execution_count": 23,
   "metadata": {},
   "outputs": [
    {
     "data": {
      "text/plain": [
       "{0: 'ABD',\n",
       " 1: 'Çin',\n",
       " 2: 'Japonya',\n",
       " 3: 'Almanya',\n",
       " 4: 'İngiltere',\n",
       " 5: 'Fransa',\n",
       " 6: 'Hindistan',\n",
       " 7: 'İtalya',\n",
       " 8: 'Brezilya',\n",
       " 9: 'Kanada',\n",
       " 10: 'Rusya',\n",
       " 11: 'GÜney Kore',\n",
       " 12: 'İspanya',\n",
       " 13: 'Avusturalya',\n",
       " 14: 'Meksika',\n",
       " 15: 'Endonezya',\n",
       " 16: 'Hollanda',\n",
       " 17: 'Türkiye',\n",
       " 18: 'Suudi Arabistan',\n",
       " 19: 'İsviçre'}"
      ]
     },
     "execution_count": 23,
     "metadata": {},
     "output_type": "execute_result"
    }
   ],
   "source": [
    "dict(ulke)"
   ]
  },
  {
   "cell_type": "code",
   "execution_count": 25,
   "metadata": {},
   "outputs": [
    {
     "data": {
      "text/plain": [
       "{0: 20410000,\n",
       " 1: 14090000,\n",
       " 2: 5170000,\n",
       " 3: 4210000,\n",
       " 4: 2940000,\n",
       " 5: 2930000,\n",
       " 6: 2850000,\n",
       " 7: 2180000,\n",
       " 8: 2140000,\n",
       " 9: 1800000,\n",
       " 10: 1720000,\n",
       " 11: 1690000,\n",
       " 12: 1510000,\n",
       " 13: 1500000,\n",
       " 14: 1210000,\n",
       " 15: 1070000,\n",
       " 16: 945000,\n",
       " 17: 910000,\n",
       " 18: 748000,\n",
       " 19: 741000}"
      ]
     },
     "execution_count": 25,
     "metadata": {},
     "output_type": "execute_result"
    }
   ],
   "source": [
    "dict(gelir)"
   ]
  },
  {
   "cell_type": "code",
   "execution_count": 26,
   "metadata": {},
   "outputs": [
    {
     "data": {
      "text/plain": [
       "20410000"
      ]
     },
     "execution_count": 26,
     "metadata": {},
     "output_type": "execute_result"
    }
   ],
   "source": [
    "max(gelir)"
   ]
  },
  {
   "cell_type": "code",
   "execution_count": 27,
   "metadata": {},
   "outputs": [
    {
     "data": {
      "text/plain": [
       "741000"
      ]
     },
     "execution_count": 27,
     "metadata": {},
     "output_type": "execute_result"
    }
   ],
   "source": [
    "min(gelir)"
   ]
  }
 ],
 "metadata": {
  "kernelspec": {
   "display_name": "Python 3",
   "language": "python",
   "name": "python3"
  },
  "language_info": {
   "codemirror_mode": {
    "name": "ipython",
    "version": 3
   },
   "file_extension": ".py",
   "mimetype": "text/x-python",
   "name": "python",
   "nbconvert_exporter": "python",
   "pygments_lexer": "ipython3",
   "version": "3.7.3"
  }
 },
 "nbformat": 4,
 "nbformat_minor": 2
}
